{
 "cells": [
  {
   "cell_type": "markdown",
   "metadata": {},
   "source": [
    "## Directory"
   ]
  },
  {
   "cell_type": "code",
   "execution_count": 1,
   "metadata": {},
   "outputs": [
    {
     "data": {
      "text/plain": [
       "'c:\\\\Users\\\\Marina\\\\Desktop\\\\ML Operations\\\\0 - KrishNaik Course\\\\21_end_to_end_nlp_project_with_huggingface_and_transformers\\\\my_project'"
      ]
     },
     "execution_count": 1,
     "metadata": {},
     "output_type": "execute_result"
    }
   ],
   "source": [
    "import os\n",
    "os.chdir(\"../\")\n",
    "os.getcwd()"
   ]
  },
  {
   "cell_type": "markdown",
   "metadata": {},
   "source": [
    "## 1. Config.yaml"
   ]
  },
  {
   "cell_type": "markdown",
   "metadata": {},
   "source": [
    "Vamos fazer isso, criando o artifact folder e a classe data_transformation"
   ]
  },
  {
   "cell_type": "markdown",
   "metadata": {},
   "source": [
    "## 2. Params.yaml"
   ]
  },
  {
   "cell_type": "markdown",
   "metadata": {},
   "source": [
    "## 3. Config entity"
   ]
  },
  {
   "cell_type": "code",
   "execution_count": 2,
   "metadata": {},
   "outputs": [],
   "source": [
    "from dataclasses import dataclass\n",
    "from pathlib import Path\n",
    "\n",
    "@dataclass\n",
    "class DataTransformationConfig():\n",
    "  root_dir: Path\n",
    "  data_path: Path\n",
    "  tokenizer_name: str\n"
   ]
  },
  {
   "cell_type": "markdown",
   "metadata": {},
   "source": [
    "## 4. Configuration Manager"
   ]
  },
  {
   "cell_type": "markdown",
   "metadata": {},
   "source": [
    "Vamos criar umas constanstes "
   ]
  },
  {
   "cell_type": "code",
   "execution_count": 3,
   "metadata": {},
   "outputs": [],
   "source": [
    "from src.textSummarizer.constants import CONFIG_FILE_PATH, PARAMS_FILE_PATH\n",
    "from src.textSummarizer.utils.common import read_yaml, create_directories\n",
    "\n",
    "class ConfigurationManager:\n",
    "    def __init__(self,\n",
    "                config_path= CONFIG_FILE_PATH,\n",
    "                params_path= PARAMS_FILE_PATH ):\n",
    "        \n",
    "        self.configurations = read_yaml(config_path)\n",
    "        self.params = read_yaml(params_path)\n",
    "\n",
    "        create_directories([self.configurations.artifacts_root]) # cria o /artifacts\n",
    "\n",
    "    # def get_somestep(self)->SomeStepConfig:\n",
    "        # config = self.configurations.somestep\n",
    "\n",
    "    def get_data_transformation_config(self)-> DataTransformationConfig:\n",
    "        data_transformation_config = self.configurations.data_transformation\n",
    "        \n",
    "        create_directories([data_transformation_config.root_dir]) # cria o /artifacts/data_transformation\n",
    "\n",
    "        return data_transformation_config\n"
   ]
  },
  {
   "cell_type": "code",
   "execution_count": 4,
   "metadata": {},
   "outputs": [
    {
     "name": "stdout",
     "output_type": "stream",
     "text": [
      "[ 2024-11-12 14:25:48,771 ] - 28 summarizerlogger - INFO - yaml file: config\\config.yaml loaded successfully\n",
      "[ 2024-11-12 14:25:48,774 ] - 28 summarizerlogger - INFO - yaml file: params.yaml loaded successfully\n",
      "[ 2024-11-12 14:25:48,776 ] - 46 summarizerlogger - INFO - created directory at: artifacts\n",
      "[ 2024-11-12 14:25:48,780 ] - 46 summarizerlogger - INFO - created directory at: artifacts/data_transformation\n"
     ]
    }
   ],
   "source": [
    "config = ConfigurationManager()\n",
    "data_transformation_config = config.get_data_transformation_config()"
   ]
  },
  {
   "cell_type": "markdown",
   "metadata": {},
   "source": [
    "## 5. Update the components- Data Ingestion,Data Transformation, Model Trainer"
   ]
  },
  {
   "cell_type": "code",
   "execution_count": 5,
   "metadata": {},
   "outputs": [],
   "source": [
    "from transformers import AutoTokenizer\n",
    "from datasets import load_from_disk"
   ]
  },
  {
   "cell_type": "code",
   "execution_count": 9,
   "metadata": {},
   "outputs": [],
   "source": [
    "import os\n",
    "from src.textSummarizer.logging import logger\n",
    "\n",
    "class DataTransformation:\n",
    "    def __init__(self, data_transformation_config: DataTransformationConfig):\n",
    "        \"\"\"\n",
    "        Initializes the DataTransformation class with configuration details and tokenizer.\n",
    "\n",
    "        Args:\n",
    "            data_transformation_config (DataTransformationConfig): Configuration object containing\n",
    "            paths and tokenizer information.\n",
    "        \"\"\"\n",
    "        self.config = data_transformation_config\n",
    "        self.tokenizer = AutoTokenizer.from_pretrained(self.config.tokenizer_name)\n",
    "\n",
    "    def convert_examples_to_features(self, example_batch):\n",
    "        \"\"\"\n",
    "        Converts a batch of examples into tokenized input features for a model.\n",
    "\n",
    "        Args:\n",
    "            example_batch (dict): A dictionary containing input and target texts for tokenization.\n",
    "\n",
    "        Returns:\n",
    "            dict: A dictionary with tokenized input features including 'input_ids', 'attention_mask',\n",
    "                  and 'labels' (target token IDs).\n",
    "        \"\"\"\n",
    "        # Tokenize the input dialogue with truncation to ensure length compatibility\n",
    "        input_encodings = self.tokenizer(\n",
    "            example_batch['dialogue'], max_length=1024, truncation=True\n",
    "        )\n",
    "\n",
    "        # Tokenize the target summary, using the tokenizer in target mode\n",
    "        with self.tokenizer.as_target_tokenizer():\n",
    "            target_encodings = self.tokenizer(\n",
    "                example_batch['summary'], max_length=128, truncation=True\n",
    "            )\n",
    "\n",
    "        # Return the tokenized inputs with attention masks and target labels\n",
    "        return {\n",
    "            'input_ids': input_encodings['input_ids'],\n",
    "            'attention_mask': input_encodings['attention_mask'],\n",
    "            'labels': target_encodings['input_ids']\n",
    "        }\n",
    "\n",
    "    def convert(self):\n",
    "        \"\"\"\n",
    "        Loads the dataset, applies tokenization to each example, and saves the processed dataset.\n",
    "\n",
    "        This method orchestrates the data transformation process by:\n",
    "        1. Loading the dataset from disk.\n",
    "        2. Applying the `convert_examples_to_features` function to each example.\n",
    "        3. Saving the transformed dataset to a specified directory.\n",
    "        \"\"\"\n",
    "        try:\n",
    "            logger.info(\"Loading dataset from disk...\")\n",
    "            dataset_samsum = load_from_disk(self.config.data_path)\n",
    "\n",
    "            logger.info(\"Transforming dataset with tokenization...\")\n",
    "            # Map the tokenization function across the dataset in a batched mode\n",
    "            dataset_samsum_pt = dataset_samsum.map(\n",
    "                self.convert_examples_to_features, batched=True\n",
    "            )\n",
    "\n",
    "            # Ensure the root directory exists before saving\n",
    "            output_dir = os.path.join(self.config.root_dir, \"samsum_dataset\")\n",
    "            os.makedirs(output_dir, exist_ok=True)\n",
    "\n",
    "            logger.info(f\"Saving processed dataset to {output_dir}...\")\n",
    "            dataset_samsum_pt.save_to_disk(output_dir)\n",
    "            logger.info(\"Data transformation and saving complete.\")\n",
    "\n",
    "        except Exception as e:\n",
    "            logger.error(f\"Error in data transformation: {e}\")\n",
    "            raise e\n",
    "\n",
    "    def initiate_data_transformation(self):\n",
    "        \"\"\"\n",
    "        Orchestrates the entire data transformation process by calling the `convert` method.\n",
    "\n",
    "        This method serves as the main entry point to perform all steps involved in data transformation,\n",
    "        including loading, tokenizing, and saving the dataset.\n",
    "        \"\"\"\n",
    "        try:\n",
    "            logger.info(\"Initiating data transformation process...\")\n",
    "            self.convert()\n",
    "            logger.info(\"Data transformation process completed successfully.\")\n",
    "        except Exception as e:\n",
    "            logger.error(f\"Data transformation process failed: {e}\")\n",
    "            raise e\n"
   ]
  },
  {
   "cell_type": "code",
   "execution_count": 10,
   "metadata": {},
   "outputs": [
    {
     "name": "stdout",
     "output_type": "stream",
     "text": [
      "[ 2024-11-12 15:00:56,998 ] - 28 summarizerlogger - INFO - yaml file: config\\config.yaml loaded successfully\n",
      "[ 2024-11-12 15:00:57,002 ] - 28 summarizerlogger - INFO - yaml file: params.yaml loaded successfully\n",
      "[ 2024-11-12 15:00:57,005 ] - 46 summarizerlogger - INFO - created directory at: artifacts\n",
      "[ 2024-11-12 15:00:57,009 ] - 46 summarizerlogger - INFO - created directory at: artifacts/data_transformation\n"
     ]
    },
    {
     "data": {
      "application/vnd.jupyter.widget-view+json": {
       "model_id": "231dd50ca0274fad975230decc6d1723",
       "version_major": 2,
       "version_minor": 0
      },
      "text/plain": [
       "tokenizer_config.json:   0%|          | 0.00/88.0 [00:00<?, ?B/s]"
      ]
     },
     "metadata": {},
     "output_type": "display_data"
    },
    {
     "name": "stderr",
     "output_type": "stream",
     "text": [
      "c:\\Users\\Marina\\Desktop\\ML Operations\\.venv\\ml_ops\\Lib\\site-packages\\huggingface_hub\\file_download.py:139: UserWarning: `huggingface_hub` cache-system uses symlinks by default to efficiently store duplicated files but your machine does not support them in C:\\Users\\Marina\\.cache\\huggingface\\hub\\models--google--pegasus-cnn_dailymail. Caching files will still work but in a degraded version that might require more space on your disk. This warning can be disabled by setting the `HF_HUB_DISABLE_SYMLINKS_WARNING` environment variable. For more details, see https://huggingface.co/docs/huggingface_hub/how-to-cache#limitations.\n",
      "To support symlinks on Windows, you either need to activate Developer Mode or to run Python as an administrator. In order to activate developer mode, see this article: https://docs.microsoft.com/en-us/windows/apps/get-started/enable-your-device-for-development\n",
      "  warnings.warn(message)\n"
     ]
    },
    {
     "data": {
      "application/vnd.jupyter.widget-view+json": {
       "model_id": "18d6793967f5461bb7cf3c66d7769079",
       "version_major": 2,
       "version_minor": 0
      },
      "text/plain": [
       "config.json:   0%|          | 0.00/1.12k [00:00<?, ?B/s]"
      ]
     },
     "metadata": {},
     "output_type": "display_data"
    },
    {
     "data": {
      "application/vnd.jupyter.widget-view+json": {
       "model_id": "3f8f0a8e33094b7292f3b06177e1809a",
       "version_major": 2,
       "version_minor": 0
      },
      "text/plain": [
       "spiece.model:   0%|          | 0.00/1.91M [00:00<?, ?B/s]"
      ]
     },
     "metadata": {},
     "output_type": "display_data"
    },
    {
     "data": {
      "application/vnd.jupyter.widget-view+json": {
       "model_id": "80b1fe7a0bde4943be71426b242a9cbd",
       "version_major": 2,
       "version_minor": 0
      },
      "text/plain": [
       "special_tokens_map.json:   0%|          | 0.00/65.0 [00:00<?, ?B/s]"
      ]
     },
     "metadata": {},
     "output_type": "display_data"
    }
   ],
   "source": [
    "configuration_manager_obj = ConfigurationManager()\n",
    "data_transformation_config = configuration_manager_obj.get_data_transformation_config()\n",
    "\n",
    "data_transformation_obj = DataTransformation(data_transformation_config)\n"
   ]
  },
  {
   "cell_type": "markdown",
   "metadata": {},
   "source": [
    "## 6. Modularizar o Código"
   ]
  },
  {
   "cell_type": "markdown",
   "metadata": {},
   "source": [
    "O `3.` vai para `src\\textSummarizer\\entity\\__init__.py`\n",
    "\n",
    "O `4.` vai para `src\\textSummarizer\\config\\configuration.py`\n",
    "\n",
    "O `5.` vai para `src\\textSummarizer\\components\\data_transformation.py`\n",
    "\n",
    "Modularizamos criando uma pipeline (classe) em `stage_2_data_transformation_pipeline.py`, com o que usamos para rodar o código\n",
    "\n",
    "Jogar a Pipeline para `main.py`"
   ]
  }
 ],
 "metadata": {
  "kernelspec": {
   "display_name": "ml_ops",
   "language": "python",
   "name": "python3"
  },
  "language_info": {
   "codemirror_mode": {
    "name": "ipython",
    "version": 3
   },
   "file_extension": ".py",
   "mimetype": "text/x-python",
   "name": "python",
   "nbconvert_exporter": "python",
   "pygments_lexer": "ipython3",
   "version": "3.12.0"
  }
 },
 "nbformat": 4,
 "nbformat_minor": 2
}
