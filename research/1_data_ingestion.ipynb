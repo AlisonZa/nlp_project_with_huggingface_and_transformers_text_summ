{
 "cells": [
  {
   "cell_type": "markdown",
   "metadata": {},
   "source": [
    "## Directory"
   ]
  },
  {
   "cell_type": "code",
   "execution_count": 1,
   "metadata": {},
   "outputs": [
    {
     "data": {
      "text/plain": [
       "'c:\\\\Users\\\\Marina\\\\Desktop\\\\ML Operations\\\\0 - KrishNaik Course\\\\21_end_to_end_nlp_project_with_huggingface_and_transformers\\\\my_project'"
      ]
     },
     "execution_count": 1,
     "metadata": {},
     "output_type": "execute_result"
    }
   ],
   "source": [
    "import os\n",
    "os.chdir(\"../\")\n",
    "os.getcwd()"
   ]
  },
  {
   "cell_type": "markdown",
   "metadata": {},
   "source": [
    "## 1. Config.yaml"
   ]
  },
  {
   "cell_type": "markdown",
   "metadata": {},
   "source": [
    "Vamos fazer isso, criando o artifact folder e a classe data_ingestion"
   ]
  },
  {
   "cell_type": "markdown",
   "metadata": {},
   "source": [
    "## 2. Params.yaml"
   ]
  },
  {
   "cell_type": "markdown",
   "metadata": {},
   "source": [
    "## 3. Config entity"
   ]
  },
  {
   "cell_type": "code",
   "execution_count": 2,
   "metadata": {},
   "outputs": [],
   "source": [
    "from dataclasses import dataclass\n",
    "from pathlib import Path\n",
    "\n",
    "@dataclass\n",
    "class DataIngestionConfig():\n",
    "  root_dir: Path\n",
    "  source_URL: str\n",
    "  local_data_file: Path\n",
    "  unzip_dir: Path"
   ]
  },
  {
   "cell_type": "markdown",
   "metadata": {},
   "source": [
    "## 4. Configuration Manager"
   ]
  },
  {
   "cell_type": "markdown",
   "metadata": {},
   "source": [
    "Vamos criar umas constanstes "
   ]
  },
  {
   "cell_type": "code",
   "execution_count": null,
   "metadata": {},
   "outputs": [],
   "source": [
    "from src.textSummarizer.constants import CONFIG_FILE_PATH, PARAMS_FILE_PATH\n",
    "from src.textSummarizer.utils.common import read_yaml, create_directories\n",
    "\n",
    "class ConfigurationManager:\n",
    "    def __init__(self,\n",
    "                config_path= CONFIG_FILE_PATH,\n",
    "                params_path= PARAMS_FILE_PATH ):\n",
    "        \n",
    "        self.configurations = read_yaml(config_path)\n",
    "        self.params = read_yaml(params_path)\n",
    "\n",
    "        create_directories([self.configurations.artifacts_root]) # cria o /artifacts\n",
    "\n",
    "    # def get_somestep(self)->SomeStepConfig:\n",
    "        # config = self.configurations.somestep\n",
    "\n",
    "    def get_data_ingestion_config(self)-> DataIngestionConfig:\n",
    "        data_ingestion_config = self.configurations.data_ingestion\n",
    "        \n",
    "        create_directories([data_ingestion_config.root_dir]) # cria o /artifacts\n",
    "\n",
    "        return data_ingestion_config\n"
   ]
  },
  {
   "cell_type": "code",
   "execution_count": null,
   "metadata": {},
   "outputs": [
    {
     "name": "stdout",
     "output_type": "stream",
     "text": [
      "[ 2024-11-12 10:47:54,163 ] - 28 summarizerlogger - INFO - yaml file: config\\config.yaml loaded successfully\n",
      "[ 2024-11-12 10:47:54,169 ] - 28 summarizerlogger - INFO - yaml file: params.yaml loaded successfully\n",
      "[ 2024-11-12 10:47:54,173 ] - 46 summarizerlogger - INFO - created directory at: artifacts\n",
      "[ 2024-11-12 10:47:54,176 ] - 46 summarizerlogger - INFO - created directory at: artifacts/data_ingestion\n"
     ]
    }
   ],
   "source": [
    "config = ConfigurationManager()\n",
    "data_ingestion_config = config.get_data_ingestion_config()"
   ]
  },
  {
   "cell_type": "code",
   "execution_count": null,
   "metadata": {},
   "outputs": [
    {
     "name": "stdout",
     "output_type": "stream",
     "text": [
      "{'root_dir': 'artifacts/data_ingestion', 'source_URL': 'https://github.com/krishnaik06/datasets/raw/refs/heads/main/summarizer-data.zip', 'local_data_file': 'artifacts/data_ingestion/data.zip', 'unzip_dir': 'artifacts/data_ingestion'}\n"
     ]
    }
   ],
   "source": [
    "print(data_ingestion_config)"
   ]
  },
  {
   "cell_type": "code",
   "execution_count": null,
   "metadata": {},
   "outputs": [
    {
     "name": "stdout",
     "output_type": "stream",
     "text": [
      "artifacts/data_ingestion/data.zip\n"
     ]
    }
   ],
   "source": [
    "print(data_ingestion_config.local_data_file)"
   ]
  },
  {
   "cell_type": "markdown",
   "metadata": {},
   "source": [
    "## 5. Update the components- Data Ingestion,Data Transformation, Model Trainer"
   ]
  },
  {
   "cell_type": "code",
   "execution_count": null,
   "metadata": {},
   "outputs": [],
   "source": [
    "import os\n",
    "import urllib.request as request\n",
    "import zipfile\n",
    "from src.textSummarizer.logging import logger\n",
    "\n",
    "class DataIngestion():\n",
    "    def __init__(self, \n",
    "                data_ingestion_config: DataIngestionConfig):\n",
    "\n",
    "        self.data_ingestion_config = data_ingestion_config\n",
    "\n",
    "    def download_data(self):\n",
    "        \"\"\"Downloads data from the source URL to the specified local path.\"\"\"\n",
    "        if not os.path.exists(self.data_ingestion_config.local_data_file):\n",
    "            try:\n",
    "                logger.info(f\"Downloading data from {self.data_ingestion_config.source_URL}\")\n",
    "                request.urlretrieve(self.data_ingestion_config.source_URL, self.data_ingestion_config.local_data_file)\n",
    "                logger.info(f\"Data downloaded successfully to {self.data_ingestion_config.local_data_file}\")\n",
    "            except Exception as e:\n",
    "                logger.error(f\"Error downloading data: {e}\")\n",
    "                raise e\n",
    "        else:\n",
    "            logger.info(f\"Data file already exists at {self.data_ingestion_config.local_data_file}\")\n",
    "\n",
    "    def extract_data(self):\n",
    "        \"\"\"Extracts the zip file to the specified directory.\"\"\"\n",
    "        if not os.path.exists(self.data_ingestion_config.unzip_dir):\n",
    "            os.makedirs(self.data_ingestion_config.unzip_dir, exist_ok=True)\n",
    "        \n",
    "        try:\n",
    "            with zipfile.ZipFile(self.data_ingestion_config.local_data_file, 'r') as zip_ref:\n",
    "                logger.info(f\"Extracting data to {self.data_ingestion_config.unzip_dir}\")\n",
    "                zip_ref.extractall(self.data_ingestion_config.unzip_dir)\n",
    "                logger.info(\"Data extracted successfully.\")\n",
    "        except Exception as e:\n",
    "            logger.error(f\"Error extracting data: {e}\")\n",
    "            raise e\n",
    "\n",
    "    def initiate_data_ingestion(self):\n",
    "        \"\"\"Orchestrates the download and extraction of data.\"\"\"\n",
    "        self.download_data()\n",
    "        self.extract_data()"
   ]
  },
  {
   "cell_type": "code",
   "execution_count": 10,
   "metadata": {},
   "outputs": [
    {
     "name": "stdout",
     "output_type": "stream",
     "text": [
      "[ 2024-11-12 11:00:28,927 ] - 17 summarizerlogger - INFO - Downloading data from https://github.com/krishnaik06/datasets/raw/refs/heads/main/summarizer-data.zip\n",
      "[ 2024-11-12 11:00:31,727 ] - 19 summarizerlogger - INFO - Data downloaded successfully to artifacts/data_ingestion/data.zip\n",
      "[ 2024-11-12 11:00:31,759 ] - 33 summarizerlogger - INFO - Extracting data to artifacts/data_ingestion\n",
      "[ 2024-11-12 11:00:31,946 ] - 35 summarizerlogger - INFO - Data extracted successfully.\n"
     ]
    }
   ],
   "source": [
    "data_ingestion_object = DataIngestion(data_ingestion_config)\n",
    "data_ingestion_object.initiate_data_ingestion()"
   ]
  },
  {
   "cell_type": "markdown",
   "metadata": {},
   "source": [
    "## 6. Modularizar o Código"
   ]
  },
  {
   "cell_type": "markdown",
   "metadata": {},
   "source": [
    "O `3.` vai para `src\\textSummarizer\\entity\\__init__.py`\n",
    "\n",
    "O `4.` vai para `src\\textSummarizer\\config\\configuration.py`\n",
    "\n",
    "O `5.` vai para `src\\textSummarizer\\components\\data_ingestion.py`\n",
    "\n",
    "Modularizamos criando uma pipeline (classe) em `stage_1_data_ingestion_pipeline.py`, com o que usamos para rodar o código\n",
    "\n",
    "Jogar a Pipeline para `main.py`"
   ]
  },
  {
   "cell_type": "markdown",
   "metadata": {},
   "source": []
  }
 ],
 "metadata": {
  "kernelspec": {
   "display_name": "ml_ops",
   "language": "python",
   "name": "python3"
  },
  "language_info": {
   "codemirror_mode": {
    "name": "ipython",
    "version": 3
   },
   "file_extension": ".py",
   "mimetype": "text/x-python",
   "name": "python",
   "nbconvert_exporter": "python",
   "pygments_lexer": "ipython3",
   "version": "3.12.0"
  }
 },
 "nbformat": 4,
 "nbformat_minor": 2
}
